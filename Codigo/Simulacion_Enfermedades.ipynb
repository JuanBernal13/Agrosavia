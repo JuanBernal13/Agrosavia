{
 "cells": [
  {
   "cell_type": "code",
   "execution_count": 9,
   "metadata": {},
   "outputs": [],
   "source": [
    "import pandas as pd\n",
    "from sklearn.preprocessing import LabelEncoder\n",
    "from sklearn.model_selection import train_test_split\n",
    "from tensorflow.keras.models import Sequential\n",
    "from tensorflow.keras.layers import Dense\n"
   ]
  },
  {
   "cell_type": "markdown",
   "metadata": {},
   "source": [
    "### Crear objetos de enfermedades "
   ]
  },
  {
   "cell_type": "code",
   "execution_count": 2,
   "metadata": {},
   "outputs": [],
   "source": [
    "class Enfermedad:\n",
    "    def __init__(self, nombre, fiebre, tos, fatiga, dolor_garganta, perdida_olfato, dificultad_respirar):\n",
    "        self.nombre = nombre\n",
    "        self.fiebre = fiebre\n",
    "        self.tos = tos\n",
    "        self.fatiga = fatiga\n",
    "        self.dolor_garganta = dolor_garganta\n",
    "        self.perdida_olfato = perdida_olfato\n",
    "        self.dificultad_respirar = dificultad_respirar\n"
   ]
  },
  {
   "cell_type": "markdown",
   "metadata": {},
   "source": [
    "# Creacion de objetos de las enfermedades a estudiar"
   ]
  },
  {
   "cell_type": "code",
   "execution_count": 5,
   "metadata": {},
   "outputs": [],
   "source": [
    "# Valores: 1 = Síntoma presente, 0 = Síntoma ausente\n",
    "covid19 = Enfermedad(\n",
    "    nombre='COVID-19',\n",
    "    fiebre=1,\n",
    "    tos=1,\n",
    "    fatiga=1,\n",
    "    dolor_garganta=0,\n",
    "    perdida_olfato=1,\n",
    "    dificultad_respirar=1\n",
    ")\n",
    "\n",
    "influenza = Enfermedad(\n",
    "    nombre='Influenza',\n",
    "    fiebre=1,\n",
    "    tos=1,\n",
    "    fatiga=1,\n",
    "    dolor_garganta=0,\n",
    "    perdida_olfato=0,\n",
    "    dificultad_respirar=0\n",
    ")\n",
    "\n",
    "gripa = Enfermedad(\n",
    "    nombre='Gripa',\n",
    "    fiebre=0,\n",
    "    tos=1,\n",
    "    fatiga=0,\n",
    "    dolor_garganta=1,\n",
    "    perdida_olfato=0,\n",
    "    dificultad_respirar=0\n",
    ")\n",
    "\n",
    "\n",
    "resfriado = Enfermedad(\n",
    "    nombre='Resfriado Común',\n",
    "    fiebre=0,\n",
    "    tos=1,\n",
    "    fatiga=0,\n",
    "    dolor_garganta=1,\n",
    "    perdida_olfato=0,\n",
    "    dificultad_respirar=0\n",
    ")\n",
    "\n",
    "alergia = Enfermedad(\n",
    "    nombre='Alergia',\n",
    "    fiebre=0,\n",
    "    tos=0,\n",
    "    fatiga=0,\n",
    "    dolor_garganta=0,\n",
    "    perdida_olfato=0,\n",
    "    dificultad_respirar=0\n",
    ")\n",
    "\n",
    "neumonia = Enfermedad(\n",
    "    nombre='Neumonía',\n",
    "    fiebre=1,\n",
    "    tos=1,\n",
    "    fatiga=1,\n",
    "    dolor_garganta=0,\n",
    "    perdida_olfato=0,\n",
    "    dificultad_respirar=1\n",
    ")\n",
    "\n",
    "bronquitis = Enfermedad(\n",
    "    nombre='Bronquitis',\n",
    "    fiebre=0,\n",
    "    tos=1,\n",
    "    fatiga=1,\n",
    "    dolor_garganta=0,\n",
    "    perdida_olfato=0,\n",
    "    dificultad_respirar=1\n",
    ")\n",
    "\n",
    "sinusitis = Enfermedad(\n",
    "    nombre='Sinusitis',\n",
    "    fiebre=0,\n",
    "    tos=0,\n",
    "    fatiga=0,\n",
    "    dolor_garganta=1,\n",
    "    perdida_olfato=1,\n",
    "    dificultad_respirar=0\n",
    ")\n"
   ]
  },
  {
   "cell_type": "markdown",
   "metadata": {},
   "source": [
    "### Adaptacion de datos "
   ]
  },
  {
   "cell_type": "code",
   "execution_count": 23,
   "metadata": {},
   "outputs": [
    {
     "name": "stdout",
     "output_type": "stream",
     "text": [
      "Datos de Enfermedades:\n",
      "   fiebre  tos  fatiga  dolor_garganta  perdida_olfato  dificultad_respirar  \\\n",
      "0       1    1       1               0               1                    1   \n",
      "1       1    1       1               0               0                    0   \n",
      "2       0    1       0               1               0                    0   \n",
      "3       0    1       0               1               0                    0   \n",
      "4       0    0       0               0               0                    0   \n",
      "5       1    1       1               0               0                    1   \n",
      "6       0    1       1               0               0                    1   \n",
      "7       0    0       0               1               1                    0   \n",
      "\n",
      "            nombre  \n",
      "0         COVID-19  \n",
      "1        Influenza  \n",
      "2            Gripa  \n",
      "3  Resfriado Común  \n",
      "4          Alergia  \n",
      "5         Neumonía  \n",
      "6       Bronquitis  \n",
      "7        Sinusitis  \n"
     ]
    }
   ],
   "source": [
    "\n",
    "# Crear una lista de todas las enfermedades\n",
    "enfermedades = [covid19, influenza, gripa, resfriado, alergia, neumonia, bronquitis, sinusitis]\n",
    "\n",
    "# Convertir a un DataFrame de pandas\n",
    "data = {\n",
    "    'fiebre': [e.fiebre for e in enfermedades],\n",
    "    'tos': [e.tos for e in enfermedades],\n",
    "    'fatiga': [e.fatiga for e in enfermedades],\n",
    "    'dolor_garganta': [e.dolor_garganta for e in enfermedades],\n",
    "    'perdida_olfato': [e.perdida_olfato for e in enfermedades],\n",
    "    'dificultad_respirar': [e.dificultad_respirar for e in enfermedades],\n",
    "    'nombre': [e.nombre for e in enfermedades]\n",
    "}\n",
    "\n",
    "df = pd.DataFrame(data)\n",
    "print(\"Datos de Enfermedades:\")\n",
    "print(df)"
   ]
  },
  {
   "cell_type": "code",
   "execution_count": 24,
   "metadata": {},
   "outputs": [
    {
     "name": "stdout",
     "output_type": "stream",
     "text": [
      "\n",
      "Etiquetas Codificadas:\n",
      "[2 4 3 6 0 5 1 7]\n"
     ]
    }
   ],
   "source": [
    "# Definir las características y la etiqueta\n",
    "X = df[['fiebre', 'tos', 'fatiga', 'dolor_garganta', 'perdida_olfato', 'dificultad_respirar']].values\n",
    "y = df['nombre'].values\n",
    "\n",
    "# Codificar las etiquetas\n",
    "label_encoder = LabelEncoder()\n",
    "y_encoded = label_encoder.fit_transform(y)\n",
    "\n",
    "# Dividir en entrenamiento y prueba\n",
    "# Nota: Dado que solo tenemos 8 muestras, esto es solo para ilustración\n",
    "X_train, X_test, y_train, y_test = train_test_split(X, y_encoded, test_size=0.25, random_state=42)\n",
    "\n",
    "print(\"\\nEtiquetas Codificadas:\")\n",
    "print(y_encoded)\n"
   ]
  },
  {
   "cell_type": "code",
   "execution_count": 25,
   "metadata": {},
   "outputs": [
    {
     "name": "stdout",
     "output_type": "stream",
     "text": [
      "\n",
      "Resumen del Modelo:\n"
     ]
    },
    {
     "name": "stderr",
     "output_type": "stream",
     "text": [
      "c:\\Users\\JUAN BERNAL\\AppData\\Local\\Programs\\Python\\Python310\\lib\\site-packages\\keras\\src\\layers\\core\\dense.py:87: UserWarning: Do not pass an `input_shape`/`input_dim` argument to a layer. When using Sequential models, prefer using an `Input(shape)` object as the first layer in the model instead.\n",
      "  super().__init__(activity_regularizer=activity_regularizer, **kwargs)\n"
     ]
    },
    {
     "data": {
      "text/html": [
       "<pre style=\"white-space:pre;overflow-x:auto;line-height:normal;font-family:Menlo,'DejaVu Sans Mono',consolas,'Courier New',monospace\"><span style=\"font-weight: bold\">Model: \"sequential_4\"</span>\n",
       "</pre>\n"
      ],
      "text/plain": [
       "\u001b[1mModel: \"sequential_4\"\u001b[0m\n"
      ]
     },
     "metadata": {},
     "output_type": "display_data"
    },
    {
     "data": {
      "text/html": [
       "<pre style=\"white-space:pre;overflow-x:auto;line-height:normal;font-family:Menlo,'DejaVu Sans Mono',consolas,'Courier New',monospace\">┏━━━━━━━━━━━━━━━━━━━━━━━━━━━━━━━━━┳━━━━━━━━━━━━━━━━━━━━━━━━┳━━━━━━━━━━━━━━━┓\n",
       "┃<span style=\"font-weight: bold\"> Layer (type)                    </span>┃<span style=\"font-weight: bold\"> Output Shape           </span>┃<span style=\"font-weight: bold\">       Param # </span>┃\n",
       "┡━━━━━━━━━━━━━━━━━━━━━━━━━━━━━━━━━╇━━━━━━━━━━━━━━━━━━━━━━━━╇━━━━━━━━━━━━━━━┩\n",
       "│ dense_8 (<span style=\"color: #0087ff; text-decoration-color: #0087ff\">Dense</span>)                 │ (<span style=\"color: #00d7ff; text-decoration-color: #00d7ff\">None</span>, <span style=\"color: #00af00; text-decoration-color: #00af00\">12</span>)             │            <span style=\"color: #00af00; text-decoration-color: #00af00\">84</span> │\n",
       "├─────────────────────────────────┼────────────────────────┼───────────────┤\n",
       "│ dense_9 (<span style=\"color: #0087ff; text-decoration-color: #0087ff\">Dense</span>)                 │ (<span style=\"color: #00d7ff; text-decoration-color: #00d7ff\">None</span>, <span style=\"color: #00af00; text-decoration-color: #00af00\">8</span>)              │           <span style=\"color: #00af00; text-decoration-color: #00af00\">104</span> │\n",
       "└─────────────────────────────────┴────────────────────────┴───────────────┘\n",
       "</pre>\n"
      ],
      "text/plain": [
       "┏━━━━━━━━━━━━━━━━━━━━━━━━━━━━━━━━━┳━━━━━━━━━━━━━━━━━━━━━━━━┳━━━━━━━━━━━━━━━┓\n",
       "┃\u001b[1m \u001b[0m\u001b[1mLayer (type)                   \u001b[0m\u001b[1m \u001b[0m┃\u001b[1m \u001b[0m\u001b[1mOutput Shape          \u001b[0m\u001b[1m \u001b[0m┃\u001b[1m \u001b[0m\u001b[1m      Param #\u001b[0m\u001b[1m \u001b[0m┃\n",
       "┡━━━━━━━━━━━━━━━━━━━━━━━━━━━━━━━━━╇━━━━━━━━━━━━━━━━━━━━━━━━╇━━━━━━━━━━━━━━━┩\n",
       "│ dense_8 (\u001b[38;5;33mDense\u001b[0m)                 │ (\u001b[38;5;45mNone\u001b[0m, \u001b[38;5;34m12\u001b[0m)             │            \u001b[38;5;34m84\u001b[0m │\n",
       "├─────────────────────────────────┼────────────────────────┼───────────────┤\n",
       "│ dense_9 (\u001b[38;5;33mDense\u001b[0m)                 │ (\u001b[38;5;45mNone\u001b[0m, \u001b[38;5;34m8\u001b[0m)              │           \u001b[38;5;34m104\u001b[0m │\n",
       "└─────────────────────────────────┴────────────────────────┴───────────────┘\n"
      ]
     },
     "metadata": {},
     "output_type": "display_data"
    },
    {
     "data": {
      "text/html": [
       "<pre style=\"white-space:pre;overflow-x:auto;line-height:normal;font-family:Menlo,'DejaVu Sans Mono',consolas,'Courier New',monospace\"><span style=\"font-weight: bold\"> Total params: </span><span style=\"color: #00af00; text-decoration-color: #00af00\">188</span> (752.00 B)\n",
       "</pre>\n"
      ],
      "text/plain": [
       "\u001b[1m Total params: \u001b[0m\u001b[38;5;34m188\u001b[0m (752.00 B)\n"
      ]
     },
     "metadata": {},
     "output_type": "display_data"
    },
    {
     "data": {
      "text/html": [
       "<pre style=\"white-space:pre;overflow-x:auto;line-height:normal;font-family:Menlo,'DejaVu Sans Mono',consolas,'Courier New',monospace\"><span style=\"font-weight: bold\"> Trainable params: </span><span style=\"color: #00af00; text-decoration-color: #00af00\">188</span> (752.00 B)\n",
       "</pre>\n"
      ],
      "text/plain": [
       "\u001b[1m Trainable params: \u001b[0m\u001b[38;5;34m188\u001b[0m (752.00 B)\n"
      ]
     },
     "metadata": {},
     "output_type": "display_data"
    },
    {
     "data": {
      "text/html": [
       "<pre style=\"white-space:pre;overflow-x:auto;line-height:normal;font-family:Menlo,'DejaVu Sans Mono',consolas,'Courier New',monospace\"><span style=\"font-weight: bold\"> Non-trainable params: </span><span style=\"color: #00af00; text-decoration-color: #00af00\">0</span> (0.00 B)\n",
       "</pre>\n"
      ],
      "text/plain": [
       "\u001b[1m Non-trainable params: \u001b[0m\u001b[38;5;34m0\u001b[0m (0.00 B)\n"
      ]
     },
     "metadata": {},
     "output_type": "display_data"
    }
   ],
   "source": [
    "# Obtener el número de clases\n",
    "num_classes = len(label_encoder.classes_)\n",
    "\n",
    "# Construir el modelo\n",
    "model = Sequential()\n",
    "model.add(Dense(12, input_dim=6, activation='relu'))  # Capa oculta con 12 neuronas\n",
    "model.add(Dense(num_classes, activation='softmax'))   # Capa de salida\n",
    "\n",
    "# Compilar el modelo\n",
    "model.compile(loss='sparse_categorical_crossentropy',\n",
    "              optimizer='adam',\n",
    "              metrics=['accuracy'])\n",
    "\n",
    "print(\"\\nResumen del Modelo:\")\n",
    "model.summary()\n"
   ]
  },
  {
   "cell_type": "code",
   "execution_count": 26,
   "metadata": {},
   "outputs": [
    {
     "name": "stdout",
     "output_type": "stream",
     "text": [
      "\n",
      "Entrenamiento Completado.\n"
     ]
    }
   ],
   "source": [
    "# Entrenar el modelo\n",
    "history = model.fit(X_train, y_train, epochs=100, batch_size=2, verbose=0)\n",
    "\n",
    "print(\"\\nEntrenamiento Completado.\")\n"
   ]
  },
  {
   "cell_type": "code",
   "execution_count": 27,
   "metadata": {},
   "outputs": [
    {
     "name": "stdout",
     "output_type": "stream",
     "text": [
      "WARNING:tensorflow:5 out of the last 5 calls to <function TensorFlowTrainer.make_test_function.<locals>.one_step_on_iterator at 0x0000017BBA4C37F0> triggered tf.function retracing. Tracing is expensive and the excessive number of tracings could be due to (1) creating @tf.function repeatedly in a loop, (2) passing tensors with different shapes, (3) passing Python objects instead of tensors. For (1), please define your @tf.function outside of the loop. For (2), @tf.function has reduce_retracing=True option that can avoid unnecessary retracing. For (3), please refer to https://www.tensorflow.org/guide/function#controlling_retracing and https://www.tensorflow.org/api_docs/python/tf/function for  more details.\n",
      "\n",
      "Precisión en el conjunto de prueba: 0.00%\n"
     ]
    }
   ],
   "source": [
    "# Evaluar el modelo\n",
    "loss, accuracy = model.evaluate(X_test, y_test, verbose=0)\n",
    "print(f\"\\nPrecisión en el conjunto de prueba: {accuracy * 100:.2f}%\")\n"
   ]
  },
  {
   "cell_type": "code",
   "execution_count": 35,
   "metadata": {},
   "outputs": [
    {
     "name": "stdout",
     "output_type": "stream",
     "text": [
      "\u001b[1m1/1\u001b[0m \u001b[32m━━━━━━━━━━━━━━━━━━━━\u001b[0m\u001b[37m\u001b[0m \u001b[1m0s\u001b[0m 16ms/step\n",
      "\n",
      "La enfermedad predicha para el nuevo paciente es: COVID-19\n"
     ]
    }
   ],
   "source": [
    "import numpy as np\n",
    "\n",
    "# Función para predecir enfermedad\n",
    "def predecir_enfermedad(fiebre, tos, fatiga, dolor_garganta, perdida_olfato, dificultad_respirar):\n",
    "    sintomas = np.array([[fiebre, tos, fatiga, dolor_garganta, perdida_olfato, dificultad_respirar]])\n",
    "    prediccion = model.predict(sintomas)\n",
    "    clase_predicha = label_encoder.inverse_transform([prediccion.argmax()])[0]\n",
    "    return clase_predicha\n",
    "\n",
    "# Ejemplo de predicción\n",
    "nuevo_paciente = {\n",
    "    'fiebre': 1,\n",
    "    'tos': 1,\n",
    "    'fatiga': 1,\n",
    "    'dolor_garganta': 1,\n",
    "    'perdida_olfato': 0,\n",
    "    'dificultad_respirar': 1\n",
    "}\n",
    "\n",
    "enfermedad = predecir_enfermedad(**nuevo_paciente)\n",
    "print(f\"\\nLa enfermedad predicha para el nuevo paciente es: {enfermedad}\")\n"
   ]
  }
 ],
 "metadata": {
  "kernelspec": {
   "display_name": "Python 3",
   "language": "python",
   "name": "python3"
  },
  "language_info": {
   "codemirror_mode": {
    "name": "ipython",
    "version": 3
   },
   "file_extension": ".py",
   "mimetype": "text/x-python",
   "name": "python",
   "nbconvert_exporter": "python",
   "pygments_lexer": "ipython3",
   "version": "3.10.6"
  }
 },
 "nbformat": 4,
 "nbformat_minor": 2
}
